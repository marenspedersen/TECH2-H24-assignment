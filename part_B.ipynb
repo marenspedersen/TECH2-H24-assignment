{
 "cells": [
  {
   "cell_type": "markdown",
   "metadata": {},
   "source": [
    "# TECH 2 mandatory assignment - Part B\n",
    "\n",
    "Write your solution for Part B in this notebook."
   ]
  },
  {
   "cell_type": "code",
   "execution_count": 14,
   "metadata": {},
   "outputs": [
    {
     "name": "stdout",
     "output_type": "stream",
     "text": [
      "Standard Deviation for Column 1:\n",
      "20.8 μs ± 54.4 ns per loop (mean ± std. dev. of 7 runs, 10,000 loops each)\n",
      "17 μs ± 19.6 ns per loop (mean ± std. dev. of 7 runs, 100,000 loops each)\n",
      "28.1 μs ± 147 ns per loop (mean ± std. dev. of 7 runs, 10,000 loops each)\n",
      "Standard Deviation for Column 2:\n",
      "199 μs ± 2.18 μs per loop (mean ± std. dev. of 7 runs, 10,000 loops each)\n",
      "167 μs ± 13.7 μs per loop (mean ± std. dev. of 7 runs, 10,000 loops each)\n",
      "88 μs ± 254 ns per loop (mean ± std. dev. of 7 runs, 10,000 loops each)\n",
      "Standard Deviation for Column 3:\n",
      "1.98 ms ± 3.87 μs per loop (mean ± std. dev. of 7 runs, 1,000 loops each)\n",
      "1.59 ms ± 4.04 μs per loop (mean ± std. dev. of 7 runs, 1,000 loops each)\n",
      "661 μs ± 334 ns per loop (mean ± std. dev. of 7 runs, 1,000 loops each)\n"
     ]
    }
   ],
   "source": [
    "# Step 1: Read the CSV file and store the data in lists\n",
    "column1 = []\n",
    "column2 = []\n",
    "column3 = []\n",
    "\n",
    "with open('data.csv', 'r') as data:\n",
    "    for line in data:\n",
    "        values = line.strip().split(',')  # Split the line into values\n",
    "        \n",
    "        # Check if each value is not empty before converting to float\n",
    "        if values[0]:  # Only append if not empty\n",
    "            column1.append(float(values[0]))  # First column\n",
    "        if len(values) > 1 and values[1]:  # Check if there's a second value and it's not empty\n",
    "            column2.append(float(values[1]))  # Second column\n",
    "        if len(values) > 2 and values[2]:  # Check if there's a third value and it's not empty\n",
    "            column3.append(float(values[2]))  # Third column\n",
    "\n",
    "# Ensure that the lists are not empty and contain numerical values\n",
    "#print(\"Column 1:\", column1)\n",
    "#print(\"Column 2:\", column2)\n",
    "#print(\"Column 3:\", column3)\n",
    "\n",
    "# from part_A.py import std_loops\n",
    "# from part_A.py import std_builtin\n",
    "\n",
    "\n",
    "# Define standard deviation functions\n",
    "def std_loops(x):\n",
    "    if len(x) == 0:\n",
    "        raise ValueError(\"Cannot compute standard deviation of an empty sequence.\")\n",
    "    n = len(x)\n",
    "    mean = sum(x) / n\n",
    "    variance_sum = sum((num - mean) ** 2 for num in x)\n",
    "    return (variance_sum / n) ** 0.5\n",
    "\n",
    "def std_builtin(x):\n",
    "    from math import sqrt\n",
    "    N = len(x)\n",
    "    meanVal = sum(x) / N\n",
    "    S = sum(num**2 for num in x) / N\n",
    "    variance = S - meanVal**2\n",
    "    return sqrt(variance)\n",
    "\n",
    "import numpy as np\n",
    "\n",
    "# Step 3: Time the execution of the functions\n",
    "print(\"Standard Deviation for Column 1:\")\n",
    "%timeit std_loops(column1)\n",
    "%timeit std_builtin(column1)\n",
    "%timeit np.std(column1)\n",
    "\n",
    "print(\"Standard Deviation for Column 2:\")\n",
    "%timeit std_loops(column2)\n",
    "%timeit std_builtin(column2)\n",
    "%timeit np.std(column2)\n",
    "\n",
    "print(\"Standard Deviation for Column 3:\")\n",
    "%timeit std_loops(column3)\n",
    "%timeit std_builtin(column3)\n",
    "%timeit np.std(column3)\n"
   ]
  },
  {
   "cell_type": "code",
   "execution_count": null,
   "metadata": {},
   "outputs": [],
   "source": []
  },
  {
   "cell_type": "code",
   "execution_count": null,
   "metadata": {},
   "outputs": [],
   "source": []
  },
  {
   "cell_type": "code",
   "execution_count": null,
   "metadata": {},
   "outputs": [],
   "source": []
  },
  {
   "cell_type": "code",
   "execution_count": null,
   "metadata": {},
   "outputs": [],
   "source": []
  }
 ],
 "metadata": {
  "kernelspec": {
   "display_name": "Python 3 (ipykernel)",
   "language": "python",
   "name": "python3"
  },
  "language_info": {
   "codemirror_mode": {
    "name": "ipython",
    "version": 3
   },
   "file_extension": ".py",
   "mimetype": "text/x-python",
   "name": "python",
   "nbconvert_exporter": "python",
   "pygments_lexer": "ipython3",
   "version": "3.12.4"
  }
 },
 "nbformat": 4,
 "nbformat_minor": 4
}
