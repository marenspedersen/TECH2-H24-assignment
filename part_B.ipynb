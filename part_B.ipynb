{
 "cells": [
  {
   "cell_type": "markdown",
   "metadata": {},
   "source": [
    "# TECH 2 mandatory assignment - Part B\n",
    "\n",
    "Write your solution for Part B in this notebook."
   ]
  },
  {
   "cell_type": "code",
   "execution_count": 438,
   "metadata": {},
   "outputs": [
    {
     "name": "stdout",
     "output_type": "stream",
     "text": [
      "Standard Deviation using loops: 198.69785984296067\n",
      "Standard Deviation using built-in functions: 198.69785984296067\n",
      "Standard Deviation using NumPy: 198.69785984296067\n"
     ]
    }
   ],
   "source": [
    "import importlib\n",
    "import part_A  # Importing the file from part a\n",
    "\n",
    "importlib.reload(part_A) # Making sure I have the updated version of the file\n",
    "from part_A import std_loops, std_builtin\n",
    "\n",
    "import timeit\n",
    "import numpy as np"
   ]
  },
  {
   "cell_type": "code",
   "execution_count": 440,
   "metadata": {},
   "outputs": [],
   "source": [
    "# Reads the CSV file and store the data in lists\n",
    "column1 = []\n",
    "column2 = []\n",
    "column3 = []\n",
    "\n",
    "with open('data.csv', 'r') as data:\n",
    "    for line in data:\n",
    "        values = line.strip().split(',')  # Split the data aeperated by comma\n",
    "        \n",
    "        # Check if each value is not empty before converting to float\n",
    "        if values[0]:  # Only append if not empty\n",
    "            column1.append(float(values[0]))  # First column\n",
    "        if len(values) > 1 and values[1]:  # Check if there's a second value and it's not empty\n",
    "            column2.append(float(values[1]))  # Second column\n",
    "        if len(values) > 2 and values[2]:  # Check if there's a third value and it's not empty\n",
    "            column3.append(float(values[2]))  # Third column\n",
    "\n",
    "# Ensure that the lists are not empty and contain numerical values\n",
    "#print(\"Column 1:\", column1)\n",
    "#print(\"Column 2:\", column2)\n",
    "#print(\"Column 3:\", column3)\n"
   ]
  },
  {
   "cell_type": "code",
   "execution_count": 442,
   "metadata": {},
   "outputs": [
    {
     "name": "stdout",
     "output_type": "stream",
     "text": [
      "Column 1\n",
      "\n",
      "Standard Deviation (loops) for Column 1: 0.28237210973536014\n",
      "Standard Deviation (builtin) for Column 1: 0.2823721097353601\n",
      "Standard Deviation (numpy) for Column 1: 0.28237210973536014\n",
      "\n",
      "Timing the standard deviation calculations for Column 1:\n",
      "11.5 μs ± 75.9 ns per loop (mean ± std. dev. of 7 runs, 100,000 loops each)\n",
      "9.86 μs ± 16.1 ns per loop (mean ± std. dev. of 7 runs, 100,000 loops each)\n",
      "16.3 μs ± 73.4 ns per loop (mean ± std. dev. of 7 runs, 100,000 loops each)\n"
     ]
    }
   ],
   "source": [
    "##\n",
    "# Culumn 1  \n",
    "#\n",
    "\n",
    "print('Column 1')\n",
    "\n",
    "print()\n",
    "\n",
    "# Print results\n",
    "print('Standard Deviation (loops) for Column 1:', std_loops(column1))\n",
    "print('Standard Deviation (builtin) for Column 1:', std_builtin(column1))\n",
    "print('Standard Deviation (numpy) for Column 1:', np.std(column1))\n",
    "\n",
    "print()\n",
    "\n",
    "# Time the execution of the functions\n",
    "print(\"Timing the standard deviation calculations for Column 1:\")\n",
    "%timeit std_loops(column1)    # Timing custom std_loops function\n",
    "%timeit std_builtin(column1)  # Timing custom std_builtin function\n",
    "%timeit np.std(column1)       # Timing numpy std function"
   ]
  },
  {
   "cell_type": "code",
   "execution_count": 443,
   "metadata": {},
   "outputs": [
    {
     "name": "stdout",
     "output_type": "stream",
     "text": [
      "Column 2\n",
      "\n",
      "Standard Deviation (loops) for Column 2: 0.2846744328385059\n",
      "Standard Deviation (builtin) for Column 2: 0.2846744328385061\n",
      "Standard Deviation (numpy) for Column 2: 0.28467443283850596\n",
      "\n",
      "Timing the standard deviation calculations for Column 1:\n",
      "111 μs ± 577 ns per loop (mean ± std. dev. of 7 runs, 10,000 loops each)\n",
      "92.4 μs ± 604 ns per loop (mean ± std. dev. of 7 runs, 10,000 loops each)\n",
      "51 μs ± 107 ns per loop (mean ± std. dev. of 7 runs, 10,000 loops each)\n"
     ]
    }
   ],
   "source": [
    "##\n",
    "#Column 2\n",
    "#\n",
    "\n",
    "print('Column 2')\n",
    "\n",
    "print()\n",
    "\n",
    "# Print results\n",
    "print('Standard Deviation (loops) for Column 2:', std_loops(column2))\n",
    "print('Standard Deviation (builtin) for Column 2:', std_builtin(column2))\n",
    "print('Standard Deviation (numpy) for Column 2:', np.std(column2))\n",
    "\n",
    "print()\n",
    "\n",
    "# Time the execution of the functions\n",
    "print(\"Timing the standard deviation calculations for Column 1:\")\n",
    "%timeit std_loops(column2)    # Timing custom std_loops function\n",
    "%timeit std_builtin(column2)  # Timing custom std_builtin function\n",
    "%timeit np.std(column2)       # Timing numpy std function"
   ]
  },
  {
   "cell_type": "code",
   "execution_count": 448,
   "metadata": {},
   "outputs": [
    {
     "name": "stdout",
     "output_type": "stream",
     "text": [
      "Column 3\n",
      "\n",
      "Standard Deviation (loops) for Column 3: 0.2854045269476154\n",
      "Standard Deviation (builtin) for Column 3: 0.28540452694761564\n",
      "Standard Deviation (numpy) for Column 3: 0.2854045269476156\n",
      "\n",
      "Timing the standard deviation calculations for Column 3:\n",
      "1.1 ms ± 3.18 μs per loop (mean ± std. dev. of 7 runs, 1,000 loops each)\n",
      "931 μs ± 14 μs per loop (mean ± std. dev. of 7 runs, 1,000 loops each)\n",
      "389 μs ± 8.27 μs per loop (mean ± std. dev. of 7 runs, 1,000 loops each)\n"
     ]
    }
   ],
   "source": [
    "##\n",
    "# Column 3\n",
    "#\n",
    "\n",
    "print('Column 3')\n",
    "\n",
    "print()\n",
    "\n",
    "# Print results\n",
    "print('Standard Deviation (loops) for Column 3:', std_loops(column3))\n",
    "print('Standard Deviation (builtin) for Column 3:', std_builtin(column3))\n",
    "print('Standard Deviation (numpy) for Column 3:', np.std(column3))\n",
    "                                                        \n",
    "print()\n",
    "                                                         \n",
    "# Time the execution of the functions\n",
    "print(\"Timing the standard deviation calculations for Column 3:\")\n",
    "%timeit std_loops(column3)    # Timing custom std_loops function\n",
    "%timeit std_builtin(column3)  # Timing custom std_builtin function\n",
    "%timeit np.std(column3)       # Timing numpy std function"
   ]
  },
  {
   "cell_type": "code",
   "execution_count": null,
   "metadata": {},
   "outputs": [],
   "source": []
  }
 ],
 "metadata": {
  "kernelspec": {
   "display_name": "Python 3 (ipykernel)",
   "language": "python",
   "name": "python3"
  },
  "language_info": {
   "codemirror_mode": {
    "name": "ipython",
    "version": 3
   },
   "file_extension": ".py",
   "mimetype": "text/x-python",
   "name": "python",
   "nbconvert_exporter": "python",
   "pygments_lexer": "ipython3",
   "version": "3.12.4"
  }
 },
 "nbformat": 4,
 "nbformat_minor": 4
}
